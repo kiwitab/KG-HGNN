{
 "cells": [
  {
   "cell_type": "code",
   "execution_count": null,
   "id": "5d12c59c",
   "metadata": {},
   "outputs": [],
   "source": [
    "import pandas as pd\n",
    "data = pd.read_csv(\"PM-Day-data.txt\",names=[\"area\",\"cycle_id\",\"hour\",\"position_name\",\"station_code\",\"aqi\",\"quality\" ,\"pm2_5\",\"pm2_5_24h\" ,\"pm10\" ,\"pm10_24h\" , \"so2\",\"so2_24h\" , \"no2\",\"no2_24h\", \"co\",\"co_24h\", \"o3\",\"o3_8h\",\"o3_8h_24h\",\"o3_24h\",\"primary_pollutant\",\"drop\"],header = None,parse_dates=True, index_col='cycle_id',encoding='gb18030')"
   ]
  },
  {
   "cell_type": "code",
   "execution_count": null,
   "id": "b994e9e6",
   "metadata": {},
   "outputs": [],
   "source": [
    "data[\"position\"] =data[\"area\"].map(str) + data[\"position_name\"].map(str)"
   ]
  },
  {
   "cell_type": "code",
   "execution_count": null,
   "id": "9fbbf3ad",
   "metadata": {},
   "outputs": [],
   "source": [
    "data = data.drop([\"pm2_5\" ,\"pm10\" ,\"so2\" ,\"no2\" ,\"co\" ,\"o3\",\"o3_8h_24h\",\"o3_24h\"],axis=1)\n",
    "data = data.drop(['area','hour','position_name','station_code','quality','primary_pollutant','drop'],axis=1)"
   ]
  },
  {
   "cell_type": "code",
   "execution_count": null,
   "id": "fcead5c2",
   "metadata": {},
   "outputs": [],
   "source": [
    "loc_list = list(data['position'].unique())\n",
    "print(loc_list)"
   ]
  },
  {
   "cell_type": "code",
   "execution_count": null,
   "id": "b86d55f1",
   "metadata": {},
   "outputs": [],
   "source": [
    "location = list()\n",
    "for i in loc_list:\n",
    "#         data_c=data[j,'position_name']\n",
    "    data_c=data[data['position']==i]\n",
    "#     print(i)\n",
    "    if 4000>len(data_c)>3200:\n",
    "#         print(len(data_c))\n",
    "        location.append(i)\n",
    "print(location)\n",
    "print(len(location))\n",
    "#         print(data_c.info())\n",
    "# print(data.info())"
   ]
  },
  {
   "cell_type": "code",
   "execution_count": null,
   "id": "fae67661",
   "metadata": {},
   "outputs": [],
   "source": [
    "print(data.info())"
   ]
  },
  {
   "cell_type": "code",
   "execution_count": null,
   "id": "c574b3da",
   "metadata": {},
   "outputs": [],
   "source": [
    "print(location)\n",
    "print(len(location))"
   ]
  },
  {
   "cell_type": "code",
   "execution_count": null,
   "id": "a52adce0",
   "metadata": {},
   "outputs": [],
   "source": [
    "import pandas as pd\n",
    "data_loc = pd.read_csv(\"location.txt\",names=[\"area\",\"cycle_id\",\"hour\",\"position_name\",\"station_code\",\"aqi\",\"quality\" ,\"pm2_5\",\"pm2_5_24h\" ,\"pm10\" ,\"pm10_24h\" , \"so2\",\"so2_24h\" , \"no2\",\"no2_24h\", \"co\",\"co_24h\", \"o3\",\"o3_8h\",\"o3_8h_24h\",\"o3_24h\",\"primary_pollutant\",\"horizontal\",\"verticle\"])"
   ]
  },
  {
   "cell_type": "code",
   "execution_count": null,
   "id": "287f60d1",
   "metadata": {},
   "outputs": [],
   "source": [
    "data_loc[\"position\"] =data_loc[\"area\"].map(str) + data_loc[\"position_name\"].map(str)"
   ]
  },
  {
   "cell_type": "code",
   "execution_count": null,
   "id": "2cf40a9e",
   "metadata": {},
   "outputs": [],
   "source": [
    "loc = list(data_loc['position'])\n",
    "print(loc)"
   ]
  },
  {
   "cell_type": "markdown",
   "id": "0f07dab5",
   "metadata": {},
   "source": [
    "# Select TOP-10 station"
   ]
  },
  {
   "cell_type": "code",
   "execution_count": null,
   "id": "e00ab889",
   "metadata": {},
   "outputs": [],
   "source": [
    "import pandas as pd\n",
    "loc_weight = pd.read_csv('loc_weight_50.csv',encoding='gb18030')"
   ]
  },
  {
   "cell_type": "code",
   "execution_count": null,
   "id": "f8766693",
   "metadata": {},
   "outputs": [],
   "source": [
    "weight = list(loc_weight['weight'])\n",
    "location = list(loc_weight['location'])\n",
    "print(weight)\n",
    "print(location)\n",
    "# wei = list(weight[loc_weight['location']=='常州市监测站'])\n",
    "# print(wei[0])"
   ]
  },
  {
   "cell_type": "code",
   "execution_count": null,
   "id": "ced104f5",
   "metadata": {},
   "outputs": [],
   "source": [
    "import copy \n",
    "t = copy.deepcopy(weight)\n",
    "max_number = []\n",
    "max_index = []\n",
    "for _ in range(11):\n",
    "    number = max(t)\n",
    "    index = t.index(number)\n",
    "    t[index] = 0\n",
    "    max_number.append(number)\n",
    "    max_index.append(index)\n",
    "t = []\n",
    "print(max_number)\n",
    "print(max_index)"
   ]
  },
  {
   "cell_type": "code",
   "execution_count": null,
   "id": "b23c4f35",
   "metadata": {},
   "outputs": [],
   "source": [
    "import numpy as np\n",
    "def softmax(X):\n",
    "    X_exp = np.exp(X)\n",
    "    partition = X_exp.sum()\n",
    "    return X_exp / partition  "
   ]
  },
  {
   "cell_type": "code",
   "execution_count": null,
   "id": "e6a0cc36",
   "metadata": {},
   "outputs": [],
   "source": [
    "softmax_n = max_number[1:]\n",
    "softmax_number = softmax(softmax_n)"
   ]
  },
  {
   "cell_type": "code",
   "execution_count": null,
   "id": "eca51bae",
   "metadata": {},
   "outputs": [],
   "source": [
    "print(softmax_number)"
   ]
  },
  {
   "cell_type": "code",
   "execution_count": null,
   "id": "eb08ccf4",
   "metadata": {},
   "outputs": [],
   "source": [
    "max_10 = []\n",
    "for item in max_index:\n",
    "    max_10.append(location[item])\n",
    "print(max_10)"
   ]
  },
  {
   "cell_type": "code",
   "execution_count": null,
   "id": "9790c6f7",
   "metadata": {},
   "outputs": [],
   "source": [
    "loc_weight_10 = loc_weight[loc_weight['location'].isin(max_10)]\n",
    "print(loc_weight_10)"
   ]
  },
  {
   "cell_type": "code",
   "execution_count": null,
   "id": "7490c420",
   "metadata": {},
   "outputs": [],
   "source": [
    "loc_weight_10.to_csv('loc_weight_10.csv',index=False,encoding='gb18030')"
   ]
  },
  {
   "cell_type": "code",
   "execution_count": null,
   "id": "f81ba0af",
   "metadata": {},
   "outputs": [],
   "source": [
    "for i in max_10:\n",
    "#         data_c=data[j,'position_name']\n",
    "    data_c=data[data['position']==i]\n",
    "#     print(i)\n",
    "    print(len(data_c))"
   ]
  },
  {
   "cell_type": "code",
   "execution_count": null,
   "id": "791e5b67",
   "metadata": {},
   "outputs": [],
   "source": [
    "data = data[data['position'].isin(location)]\n",
    "print(data.info())"
   ]
  },
  {
   "cell_type": "code",
   "execution_count": null,
   "id": "c3a4cd73",
   "metadata": {},
   "outputs": [],
   "source": [
    "data.to_csv('test_data.csv',encoding='gb18030')"
   ]
  },
  {
   "cell_type": "code",
   "execution_count": null,
   "id": "85dda63d",
   "metadata": {},
   "outputs": [],
   "source": [
    "data.replace('--',np.nan,inplace=True)\n",
    "data.replace('—',np.nan,inplace=True)\n",
    "data = data.iloc[551:,:]"
   ]
  },
  {
   "cell_type": "code",
   "execution_count": null,
   "id": "1964eefd",
   "metadata": {},
   "outputs": [],
   "source": [
    "data['pm2_5_24h'] = data['pm2_5_24h'].astype(float)\n",
    "data['pm10_24h'] = data['pm10_24h'].astype(float)\n",
    "data['so2_24h'] = data['so2_24h'].astype(float)\n",
    "data['no2_24h'] = data['no2_24h'].astype(float)\n",
    "data['co_24h'] = data['co_24h'].astype(float)\n",
    "data['o3_8h'] = data['o3_8h'].astype(float)"
   ]
  },
  {
   "cell_type": "code",
   "execution_count": null,
   "id": "094e32bf",
   "metadata": {},
   "outputs": [],
   "source": [
    "print(data.head())"
   ]
  },
  {
   "cell_type": "code",
   "execution_count": null,
   "id": "f8215201",
   "metadata": {},
   "outputs": [],
   "source": [
    "import numpy as np\n",
    "data_multi = pd.DataFrame(np.arange(3250),columns=['drop'])\n",
    "t=-1\n",
    "for i in max_10:\n",
    "    t = t+1\n",
    "    for j in ['aqi','pm2_5_24h', 'pm10_24h', 'so2_24h', 'no2_24h', 'co_24h', 'o3_8h']:\n",
    "#         data_c=data[j,'position_name']\n",
    "        data_c=data[data['position']==i]\n",
    "        d = i+'_'+j\n",
    "        data_loc0 = list(data_c[j])\n",
    "        data_loc1 = np.array(data_loc0[:3250])*max_number[t]\n",
    "        data_multi[d]=pd.Series(data_loc1).copy()\n",
    "#         print(d)\n",
    "#         print(len(data_c))\n",
    "print(data_multi.info())"
   ]
  },
  {
   "cell_type": "code",
   "execution_count": null,
   "id": "973b494d",
   "metadata": {},
   "outputs": [],
   "source": [
    "data_multi = data_multi.fillna(method='ffill')\n",
    "print(data_multi.info())"
   ]
  },
  {
   "cell_type": "code",
   "execution_count": null,
   "id": "9cc9b814",
   "metadata": {},
   "outputs": [],
   "source": [
    "data_multi = data_multi.drop('drop',axis=1)\n",
    "data_multi.to_csv('multilocation_10_final.csv',encoding='gb18030',index=False)"
   ]
  },
  {
   "cell_type": "code",
   "execution_count": null,
   "id": "c7303d83",
   "metadata": {},
   "outputs": [],
   "source": [
    "print(data_loc.info())"
   ]
  },
  {
   "cell_type": "code",
   "execution_count": null,
   "id": "eace0cb2",
   "metadata": {},
   "outputs": [],
   "source": [
    "data = data[data['position'].isin(location)]"
   ]
  },
  {
   "cell_type": "code",
   "execution_count": null,
   "id": "b33ce287",
   "metadata": {},
   "outputs": [],
   "source": [
    "print(data.info())"
   ]
  },
  {
   "cell_type": "code",
   "execution_count": null,
   "id": "f406142c",
   "metadata": {},
   "outputs": [],
   "source": [
    "import numpy as np\n",
    "data.replace('--',np.nan,inplace=True)\n",
    "# data = data.iloc[11:,:]\n",
    "data = data.fillna(method='ffill')"
   ]
  },
  {
   "cell_type": "code",
   "execution_count": null,
   "id": "698b6f6c",
   "metadata": {},
   "outputs": [],
   "source": [
    "print(data.info())\n",
    "print(list(data.columns))"
   ]
  },
  {
   "cell_type": "code",
   "execution_count": null,
   "id": "04446af1",
   "metadata": {},
   "outputs": [],
   "source": [
    "for i in location:\n",
    "#         data_c=data[j,'position_name']\n",
    "    data_c=data[data['position']==i]\n",
    "#     print(i)\n",
    "    print(len(data_c))"
   ]
  },
  {
   "cell_type": "code",
   "execution_count": null,
   "id": "0805d4e4",
   "metadata": {},
   "outputs": [],
   "source": [
    "data_multi = pd.DataFrame(np.arange(3250),columns=['drop'])\n",
    "weight = loc_weight['weight']\n",
    "for i in location:\n",
    "    for j in ['pm2_5', 'pm10', 'so2', 'no2', 'co', 'o3']:\n",
    "#         data_c=data[j,'position_name']\n",
    "        data_c=data[data['position']==i]\n",
    "        d = i+'_'+j\n",
    "        wei = list(weight[loc_weight['location']==i])\n",
    "        data_loc0 = list(data_c[j])\n",
    "        data_loc1 = np.array(data_loc0[:3250])*wei[0]\n",
    "        data_multi[d]=pd.Series(data_loc1).copy()\n",
    "#         print(d)\n",
    "#         print(len(data_c))\n",
    "print(data_multi.info())"
   ]
  },
  {
   "cell_type": "code",
   "execution_count": null,
   "id": "8084e25b",
   "metadata": {},
   "outputs": [],
   "source": [
    "print(data_multi.columns)"
   ]
  },
  {
   "cell_type": "code",
   "execution_count": null,
   "id": "d77434f0",
   "metadata": {},
   "outputs": [],
   "source": [
    "data_multi = data_multi.drop('drop',axis=1)"
   ]
  },
  {
   "cell_type": "code",
   "execution_count": null,
   "id": "aaf05876",
   "metadata": {},
   "outputs": [],
   "source": [
    "data_multi.to_csv('multilocation.csv',encoding='gb18030',index=False)"
   ]
  },
  {
   "cell_type": "code",
   "execution_count": null,
   "id": "06d4d8a6",
   "metadata": {},
   "outputs": [],
   "source": [
    "location_0 = pd.DataFrame(pd.Series(location),columns=['location'])\n",
    "location_0['x']=np.zeros(50)\n",
    "location_0['y']=np.zeros(50)"
   ]
  },
  {
   "cell_type": "code",
   "execution_count": null,
   "id": "c90bdb70",
   "metadata": {},
   "outputs": [],
   "source": [
    "print(location_0)"
   ]
  },
  {
   "cell_type": "code",
   "execution_count": null,
   "id": "b83bb875",
   "metadata": {},
   "outputs": [],
   "source": [
    "graph_list = list()\n",
    "for i in location:\n",
    "    if i in loc:\n",
    "        x = data_loc.loc[(data_loc['position']==i),['horizontal']]\n",
    "        y = data_loc.loc[(data_loc['position']==i),['verticle']]\n",
    "        location_0.loc[(location_0['location']==i),['x']]=x.values\n",
    "        location_0.loc[(location_0['location']==i),['y']]=y.values\n",
    "        list0 = list([x.values[0][0],y.values[0][0]])\n",
    "        graph_list.append(list0)"
   ]
  },
  {
   "cell_type": "code",
   "execution_count": null,
   "id": "99f31279",
   "metadata": {},
   "outputs": [],
   "source": [
    "print(graph_list)"
   ]
  },
  {
   "cell_type": "code",
   "execution_count": null,
   "id": "bbb761cb",
   "metadata": {},
   "outputs": [],
   "source": [
    "print(location_0.head)"
   ]
  },
  {
   "cell_type": "code",
   "execution_count": null,
   "id": "20616c3d",
   "metadata": {},
   "outputs": [],
   "source": [
    "location_0.to_csv('location00.csv',encoding='gb18030',index=False)"
   ]
  },
  {
   "cell_type": "markdown",
   "id": "277d5e5b",
   "metadata": {},
   "source": [
    "# Construct location graph"
   ]
  },
  {
   "cell_type": "code",
   "execution_count": null,
   "id": "a418812e",
   "metadata": {},
   "outputs": [],
   "source": [
    "import pandas as pd"
   ]
  },
  {
   "cell_type": "code",
   "execution_count": null,
   "id": "35f3fa62",
   "metadata": {},
   "outputs": [],
   "source": [
    "loca = pd.read_csv('location00.csv',encoding='gb18030')"
   ]
  },
  {
   "cell_type": "code",
   "execution_count": null,
   "id": "bcf4cf9a",
   "metadata": {},
   "outputs": [],
   "source": [
    "location_xy = list(loca['location'])"
   ]
  },
  {
   "cell_type": "code",
   "execution_count": null,
   "id": "246efadb",
   "metadata": {},
   "outputs": [],
   "source": [
    "print(location_xy)"
   ]
  },
  {
   "cell_type": "code",
   "execution_count": null,
   "id": "050d15f3",
   "metadata": {},
   "outputs": [],
   "source": [
    "graph_list = list()\n",
    "for i in location_xy:\n",
    "    x = loca.loc[(loca['location']==i),['x']]\n",
    "    y = loca.loc[(loca['location']==i),['y']]\n",
    "    list0 = list([x.values[0][0],y.values[0][0]])\n",
    "    graph_list.append(list0)"
   ]
  },
  {
   "cell_type": "code",
   "execution_count": null,
   "id": "a676cc1b",
   "metadata": {},
   "outputs": [],
   "source": [
    "print(graph_list)"
   ]
  },
  {
   "cell_type": "code",
   "execution_count": null,
   "id": "6a097d90",
   "metadata": {},
   "outputs": [],
   "source": [
    "from py2neo import Graph, Node, Relationship, NodeMatcher\n",
    "\n",
    "local_host = ''\n",
    "auth_info = ''\n",
    "test_graph = Graph(local_host, auth=(auth_info))\n",
    "test_graph.delete_all()\n",
    "\n",
    "def build_graph(rel_triple_list):\n",
    "    matcher = NodeMatcher(test_graph)\n",
    "    for rel_triple in rel_triple_list:\n",
    "        if rel_triple is not None:\n",
    "            # print(item)\n",
    "            node_s = list(matcher.match(rel_triple[0], name=rel_triple[0]))\n",
    "            node_o = list(matcher.match(rel_triple[1], name=rel_triple[1]))\n",
    "\n",
    "            if len(node_s) <= 0:\n",
    "                subject = Node(rel_triple[0], label=\"location\", name=rel_triple[0])\n",
    "                test_graph.create(subject)\n",
    "            else:\n",
    "                subject = node_s[0]\n",
    "            if len(node_o) <= 0:\n",
    "                object = Node(rel_triple[1], label=\"location\", name=rel_triple[1])\n",
    "                test_graph.create(object)\n",
    "            else:\n",
    "                object = node_o[0]\n",
    "\n",
    "            rel = Relationship(subject, 'related to' ,object)\n",
    "            test_graph.create(rel)\n",
    "\n",
    "if __name__ == '__main__':\n",
    "    build_graph(rel_triple_list)"
   ]
  },
  {
   "cell_type": "code",
   "execution_count": null,
   "id": "b53a6e59",
   "metadata": {},
   "outputs": [],
   "source": [
    "list00 = np.array(rel_triple_list)\n",
    "print(list00.shape)"
   ]
  },
  {
   "cell_type": "code",
   "execution_count": null,
   "id": "dc5b2cf9",
   "metadata": {},
   "outputs": [],
   "source": [
    "import numpy as np\n",
    "from scipy.spatial.distance import pdist\n",
    "from scipy.spatial.distance import squareform\n",
    "\n",
    "distA=pdist(graph_list,metric='euclidean')\n",
    "\n",
    "dist = squareform(distA)"
   ]
  },
  {
   "cell_type": "code",
   "execution_count": null,
   "id": "c4492503",
   "metadata": {},
   "outputs": [],
   "source": [
    "dist = np.array(dist)\n",
    "\n",
    "print(dist.max())"
   ]
  },
  {
   "cell_type": "code",
   "execution_count": null,
   "id": "a65dd448",
   "metadata": {},
   "outputs": [],
   "source": [
    "rel_triple_list = list()\n",
    "for i in range(50):\n",
    "    for j in range(i+1,50):\n",
    "        if dist[i][j]<0.3:\n",
    "            rel_triple = [location_xy[i],location_xy[j],dist[i][j]]\n",
    "            rel_triple_list.append(rel_triple)\n",
    "# print(rel_triple_list)"
   ]
  },
  {
   "cell_type": "code",
   "execution_count": null,
   "id": "b27d2d6e",
   "metadata": {},
   "outputs": [],
   "source": [
    "import networkx as nx\n",
    "from node2vec import Node2Vec\n",
    "G = nx.Graph()\n",
    "for i in range(50):\n",
    "#     print(location[i])\n",
    "    G.add_node(location_xy[i])\n",
    "    for j in range(50):\n",
    "        if dist[i][j]<0.3:\n",
    "            G.add_edge(location_xy[i],location_xy[j])\n",
    "node2vec = Node2Vec(G, dimensions=200, walk_length=30, num_walks=200, workers=1)\n",
    "model = node2vec.fit(window=10, min_count=1, batch_words=4)\n",
    "# model.save('node2vec_loc.model')\n",
    "print(G)"
   ]
  },
  {
   "cell_type": "code",
   "execution_count": null,
   "id": "8767772e",
   "metadata": {},
   "outputs": [],
   "source": [
    "# plt.figure(figsize=(6,4))\n",
    "pos=nx.circular_layout(G)\n",
    "nx.draw(G,pos=nx.circular_layout(G))\n",
    "# plt.savefig(\"location_graph.png\",dpi=600,bbox_inches = 'tight')"
   ]
  },
  {
   "cell_type": "markdown",
   "id": "996784c3",
   "metadata": {},
   "source": [
    "# Cosine distance computation"
   ]
  },
  {
   "cell_type": "code",
   "execution_count": null,
   "id": "f2b13453",
   "metadata": {},
   "outputs": [],
   "source": [
    "loc_embedded = pd.DataFrame(np.arange(50),columns=['drop'])\n",
    "embed = model.wv.vectors\n",
    "index = model.wv.index_to_key\n",
    "loc_embedded['location'] = index\n",
    "loc_embedded['embedding'] = np.zeros(50)\n",
    "loc_embedded['embedding'] = loc_embedded['embedding'].astype(object)\n",
    "loc_embedded['embedding'] = embed"
   ]
  },
  {
   "cell_type": "code",
   "execution_count": null,
   "id": "8d9219f5",
   "metadata": {},
   "outputs": [],
   "source": [
    "from scipy import spatial\n",
    "# print(index[32])\n",
    "# print(embed[32])\n",
    "weight_loc = list()\n",
    "loc = embed[3]\n",
    "for i in range(50):\n",
    "    loc0 = embed[i]\n",
    "    sim = 1 - spatial.distance.cosine(loc,loc0)\n",
    "    weight_loc.append(sim)\n",
    "print(weight_loc)"
   ]
  },
  {
   "cell_type": "code",
   "execution_count": null,
   "id": "9bd2bcdc",
   "metadata": {},
   "outputs": [],
   "source": [
    "loc_embedded = pd.DataFrame(np.arange(50),columns=['drop'])\n",
    "embed = model.wv.vectors\n",
    "index = model.wv.index_to_key\n",
    "loc_embedded['location'] = index\n",
    "loc_embedded['weight'] = weight_loc\n",
    "loc_embedded = loc_embedded.drop(['drop'],axis=1)\n",
    "print(loc_embedded.info())"
   ]
  },
  {
   "cell_type": "code",
   "execution_count": null,
   "id": "28ea8745",
   "metadata": {},
   "outputs": [],
   "source": [
    "loc_embedded.to_csv('loc_weight_50.csv',encoding='gb18030',index=False)"
   ]
  },
  {
   "cell_type": "code",
   "execution_count": null,
   "id": "b41e1b55",
   "metadata": {},
   "outputs": [],
   "source": [
    "print(weight_loc)"
   ]
  },
  {
   "cell_type": "code",
   "execution_count": null,
   "id": "84e29043",
   "metadata": {},
   "outputs": [],
   "source": [
    "model.wv.save_word2vec_format('embedding_loc.csv')"
   ]
  },
  {
   "cell_type": "code",
   "execution_count": null,
   "id": "6c4b8d9c",
   "metadata": {},
   "outputs": [],
   "source": [
    "embedding = pd.read_csv('embedding_loc.csv')\n",
    "print(embedding.info)"
   ]
  },
  {
   "cell_type": "code",
   "execution_count": null,
   "id": "3b7c7a69",
   "metadata": {},
   "outputs": [],
   "source": [
    "data_multi=data_multi.drop(['drop'],axis=1)"
   ]
  },
  {
   "cell_type": "code",
   "execution_count": null,
   "id": "b46ea283",
   "metadata": {},
   "outputs": [],
   "source": [
    "data_multi.to_csv('data_location.csv',encoding='gb18030',index=False)"
   ]
  },
  {
   "cell_type": "code",
   "execution_count": null,
   "id": "0a2e76ea",
   "metadata": {},
   "outputs": [],
   "source": [
    "print(data_multi.info())"
   ]
  },
  {
   "cell_type": "code",
   "execution_count": null,
   "id": "3f76d4cb",
   "metadata": {},
   "outputs": [],
   "source": [
    "data.to_csv('data.csv')"
   ]
  },
  {
   "cell_type": "code",
   "execution_count": null,
   "id": "347d6141",
   "metadata": {},
   "outputs": [],
   "source": [
    "print(data.head)"
   ]
  }
 ],
 "metadata": {
  "kernelspec": {
   "display_name": "Python 3 (ipykernel)",
   "language": "python",
   "name": "python3"
  },
  "language_info": {
   "codemirror_mode": {
    "name": "ipython",
    "version": 3
   },
   "file_extension": ".py",
   "mimetype": "text/x-python",
   "name": "python",
   "nbconvert_exporter": "python",
   "pygments_lexer": "ipython3",
   "version": "3.9.13"
  }
 },
 "nbformat": 4,
 "nbformat_minor": 5
}
