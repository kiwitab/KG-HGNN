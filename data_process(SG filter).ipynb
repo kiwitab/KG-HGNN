{
 "cells": [
  {
   "cell_type": "code",
   "execution_count": null,
   "metadata": {
    "colab": {},
    "colab_type": "code",
    "executionInfo": {
     "elapsed": 773,
     "status": "ok",
     "timestamp": 1596202069916,
     "user": {
      "displayName": "Mingming Luo",
      "photoUrl": "",
      "userId": "03419135428294618807"
     },
     "user_tz": -60
    },
    "id": "ONdLmBgQoz9s"
   },
   "outputs": [],
   "source": [
    "import pandas as pd\n",
    "import numpy as np\n",
    "from matplotlib import pyplot"
   ]
  },
  {
   "cell_type": "markdown",
   "metadata": {
    "colab_type": "text",
    "id": "TV3HrvN_o_g6"
   },
   "source": [
    "# Load data"
   ]
  },
  {
   "cell_type": "code",
   "execution_count": null,
   "metadata": {},
   "outputs": [],
   "source": [
    "import pandas as pd\n",
    "data = pd.read_csv(\"PM-Day-data.txt\",names=[\"area\",\"cycle_id\",\"hour\",\"position_name\",\"station_code\",\"aqi\",\"quality\" ,\"pm2_5\",\"pm2_5_24h\" ,\"pm10\" ,\"pm10_24h\" , \"so2\",\"so2_24h\" , \"no2\",\"no2_24h\", \"co\",\"co_24h\", \"o3\",\"o3_8h\",\"o3_8h_24h\",\"o3_24h\",\"primary_pollutant\",\"drop\"],header = None,parse_dates=True, index_col='cycle_id',encoding='gb18030')"
   ]
  },
  {
   "cell_type": "code",
   "execution_count": null,
   "metadata": {},
   "outputs": [],
   "source": [
    "print(data['primary_pollutant'].value_counts())"
   ]
  },
  {
   "cell_type": "code",
   "execution_count": null,
   "metadata": {},
   "outputs": [],
   "source": [
    "data_chang = data[data['area']=='常州']\n",
    "data_chang = data_chang.drop('drop',axis=1)\n",
    "data_c = data_chang[data_chang['position_name']=='市监测站']"
   ]
  },
  {
   "cell_type": "code",
   "execution_count": null,
   "metadata": {},
   "outputs": [],
   "source": [
    "import numpy as np\n",
    "data_c = data_c.drop(['area','hour','position_name','station_code','aqi','quality','primary_pollutant'],axis=1)\n",
    "data_c.replace('--',np.nan,inplace=True)\n",
    "data_c = data_c.iloc[11:,:]\n",
    "data_c = data_c.fillna(method='ffill')"
   ]
  },
  {
   "cell_type": "code",
   "execution_count": null,
   "metadata": {},
   "outputs": [],
   "source": [
    "import numpy as np\n",
    "data_c['pm2_5_24h'] = data_c['pm2_5_24h'].astype(float)\n",
    "data_c['pm10_24h'] = data_c['pm10_24h'].astype(float)\n",
    "data_c['so2_24h'] = data_c['so2_24h'].astype(float)\n",
    "data_c['no2_24h'] = data_c['no2_24h'].astype(float)\n",
    "data_c['co_24h'] = data_c['co_24h'].astype(float)\n",
    "data_c['o3_8h'] = data_c['o3_8h'].astype(float)\n",
    "data_c['o3_8h_24h'] = data_c['o3_8h_24h'].astype(float)\n",
    "data_c['o3_24h'] = data_c['o3_24h'].astype(float)\n",
    "print(data_c.info())"
   ]
  },
  {
   "cell_type": "code",
   "execution_count": null,
   "metadata": {},
   "outputs": [],
   "source": [
    "list0 = [\"pm2_5_24h\" ,\"pm10_24h\" , \"so2_24h\" , \"no2_24h\", \"co_24h\", \"o3_8h\",\"o3_8h_24h\",\"o3_24h\"]\n",
    "print(list0)"
   ]
  },
  {
   "cell_type": "code",
   "execution_count": null,
   "metadata": {},
   "outputs": [],
   "source": [
    "data_c=data_c.drop(['pm2_5_24h', 'pm10_24h', 'so2_24h', 'no2_24h', 'co_24h', 'o3_8h', 'o3_8h_24h', 'o3_24h'],axis=1)"
   ]
  },
  {
   "cell_type": "code",
   "execution_count": null,
   "metadata": {},
   "outputs": [],
   "source": [
    "pollutants_list = list(data_c.columns)\n",
    "print(pollutants_list)"
   ]
  },
  {
   "cell_type": "code",
   "execution_count": null,
   "metadata": {},
   "outputs": [],
   "source": [
    "import pandas as pd\n",
    "import numpy as np"
   ]
  },
  {
   "cell_type": "code",
   "execution_count": null,
   "metadata": {},
   "outputs": [],
   "source": [
    "data = pd.read_csv('multilocation_10_final.csv',encoding='gb18030')"
   ]
  },
  {
   "cell_type": "code",
   "execution_count": null,
   "metadata": {},
   "outputs": [],
   "source": [
    "print(data.info())"
   ]
  },
  {
   "cell_type": "code",
   "execution_count": null,
   "metadata": {},
   "outputs": [],
   "source": [
    "data_1 = data.iloc[:,:7]\n",
    "print(data_1.info())"
   ]
  },
  {
   "cell_type": "code",
   "execution_count": null,
   "metadata": {},
   "outputs": [],
   "source": [
    "import matplotlib.pyplot as plt\n",
    "data_1.plot(subplots=True, figsize=(20,24))\n",
    "# plt.savefig('1.png',dpi=600)"
   ]
  },
  {
   "cell_type": "markdown",
   "metadata": {
    "colab_type": "text",
    "id": "797Dul4uzUjj"
   },
   "source": [
    "# Eliminate noises with savgol filter"
   ]
  },
  {
   "cell_type": "code",
   "execution_count": null,
   "metadata": {},
   "outputs": [],
   "source": [
    "import copy\n",
    "data_s=copy.deepcopy(data)"
   ]
  },
  {
   "cell_type": "code",
   "execution_count": null,
   "metadata": {
    "colab": {},
    "colab_type": "code",
    "executionInfo": {
     "elapsed": 7152,
     "status": "ok",
     "timestamp": 1596202238353,
     "user": {
      "displayName": "Mingming Luo",
      "photoUrl": "",
      "userId": "03419135428294618807"
     },
     "user_tz": -60
    },
    "id": "r6dBufTBzYPC"
   },
   "outputs": [],
   "source": [
    "from scipy.signal import savgol_filter\n",
    "\n",
    "for i in data_s.columns:\n",
    "    data_1=data_s.loc[:,i].values\n",
    "    data_s.loc[:,i] = savgol_filter(data_1, 20, 5, mode= 'nearest')"
   ]
  },
  {
   "cell_type": "code",
   "execution_count": null,
   "metadata": {},
   "outputs": [],
   "source": [
    "data_s.to_csv(\"data_multi_cleaned_10_final.csv\",index=False,encoding='gb18030')"
   ]
  },
  {
   "cell_type": "code",
   "execution_count": null,
   "metadata": {},
   "outputs": [],
   "source": [
    "data_c = pd.DataFrame(data_s.iloc[:,:7])\n",
    "data_c.plot(subplots=True, figsize=(20,24))\n",
    "# plt.savefig('2.png',dpi=600)"
   ]
  },
  {
   "cell_type": "code",
   "execution_count": null,
   "metadata": {},
   "outputs": [],
   "source": [
    "pccs_list = []\n",
    "for i in range(1,6):\n",
    "    pccs = np.corrcoef(data_2.iloc[:,0],data_2.iloc[:,i])\n",
    "    pccs_list.append(pccs[0][1])\n",
    "print(pccs_list)"
   ]
  },
  {
   "cell_type": "code",
   "execution_count": null,
   "metadata": {},
   "outputs": [],
   "source": [
    "from sklearn.preprocessing import MinMaxScaler\n",
    "from sklearn import preprocessing\n",
    "scaler = MinMaxScaler(feature_range=(0, 1))\n",
    "data_2 = scaler.fit_transform(data_s)\n",
    "# data_2 = preprocessing.scale(data_s)"
   ]
  },
  {
   "cell_type": "code",
   "execution_count": null,
   "metadata": {},
   "outputs": [],
   "source": [
    "print(data_2.shape)"
   ]
  },
  {
   "cell_type": "code",
   "execution_count": null,
   "metadata": {},
   "outputs": [],
   "source": [
    "# data_2 = data_s.iloc[:,:6]\n",
    "data_2 = pd.DataFrame(data_2)\n",
    "data_2.plot(subplots=True, figsize=(20,24))\n",
    "# plt.savefig('2.png',dpi=600)"
   ]
  },
  {
   "cell_type": "code",
   "execution_count": null,
   "metadata": {},
   "outputs": [],
   "source": [
    "print(data_2)"
   ]
  },
  {
   "cell_type": "markdown",
   "metadata": {
    "colab_type": "text",
    "id": "s1b61XZTlqNR"
   },
   "source": [
    "# Correlation test"
   ]
  },
  {
   "cell_type": "code",
   "execution_count": null,
   "metadata": {
    "colab": {
     "base_uri": "https://localhost:8080/",
     "height": 71
    },
    "colab_type": "code",
    "executionInfo": {
     "elapsed": 14225,
     "status": "ok",
     "timestamp": 1596202245455,
     "user": {
      "displayName": "Mingming Luo",
      "photoUrl": "",
      "userId": "03419135428294618807"
     },
     "user_tz": -60
    },
    "id": "Uy9cdp7Wl-gW",
    "outputId": "315e38fc-eda1-4be7-8932-dedc6b8de925"
   },
   "outputs": [],
   "source": [
    "import numpy as np\n",
    "import pandas as pd\n",
    "import matplotlib.pyplot as plt\n",
    "from matplotlib import gridspec\n",
    "from statsmodels.graphics.tsaplots import plot_acf, plot_pacf\n",
    "import pandas.util.testing as tm\n",
    " \n",
    "def ts_plot(data):\n",
    "    fig = plt.figure(figsize=(14, 10))\n",
    "    gs = gridspec.GridSpec(2,2)\n",
    " \n",
    "    # data = np.random.normal(size=1000)\n",
    " \n",
    "    ax_ts = fig.add_subplot(gs[0, 0:2])\n",
    "    ax_acf = fig.add_subplot(gs[1, 0])\n",
    "    ax_pacf = fig.add_subplot(gs[1, 1])\n",
    " \n",
    "    ax_ts.plot(range(len(data)), data)\n",
    "    plot_acf(data, ax=ax_acf, lags=60)\n",
    "    plot_pacf(data, ax=ax_pacf, lags=60)\n",
    " \n",
    "    plt.show()"
   ]
  },
  {
   "cell_type": "code",
   "execution_count": null,
   "metadata": {
    "colab": {
     "base_uri": "https://localhost:8080/",
     "height": 592
    },
    "colab_type": "code",
    "executionInfo": {
     "elapsed": 15378,
     "status": "ok",
     "timestamp": 1596202246619,
     "user": {
      "displayName": "Mingming Luo",
      "photoUrl": "",
      "userId": "03419135428294618807"
     },
     "user_tz": -60
    },
    "id": "-KrxmtJ2mWz8",
    "outputId": "3f088dc0-3cc4-4a0c-e71a-0fba495ed250"
   },
   "outputs": [],
   "source": [
    "ts_plot(data_c['pm2_5'])"
   ]
  },
  {
   "cell_type": "code",
   "execution_count": null,
   "metadata": {},
   "outputs": [],
   "source": [
    "ts_plot(data_s['pm2_5'])"
   ]
  },
  {
   "cell_type": "code",
   "execution_count": null,
   "metadata": {
    "colab": {
     "base_uri": "https://localhost:8080/",
     "height": 297
    },
    "colab_type": "code",
    "executionInfo": {
     "elapsed": 16059,
     "status": "ok",
     "timestamp": 1596202247324,
     "user": {
      "displayName": "Mingming Luo",
      "photoUrl": "",
      "userId": "03419135428294618807"
     },
     "user_tz": -60
    },
    "id": "4eVBeq48V_OV",
    "outputId": "5fc530f3-7593-45e9-ba49-912e053db512"
   },
   "outputs": [],
   "source": [
    "data_c.corr()"
   ]
  },
  {
   "cell_type": "code",
   "execution_count": null,
   "metadata": {
    "colab": {
     "base_uri": "https://localhost:8080/",
     "height": 287
    },
    "colab_type": "code",
    "executionInfo": {
     "elapsed": 16347,
     "status": "ok",
     "timestamp": 1596202247622,
     "user": {
      "displayName": "Mingming Luo",
      "photoUrl": "",
      "userId": "03419135428294618807"
     },
     "user_tz": -60
    },
    "id": "IVLbk2E_XxO-",
    "outputId": "504d980c-4925-4ecf-b9fe-ecce4e29a68f"
   },
   "outputs": [],
   "source": [
    "import seaborn as sns\n",
    "sns.heatmap(data_c.corr())"
   ]
  }
 ],
 "metadata": {
  "colab": {
   "authorship_tag": "ABX9TyMoxWNjjES7sA6P+79aK0sj",
   "mount_file_id": "12Wo6fp3fzPRjnj5gnlqecmRHEyrU1z82",
   "name": "data_process.ipynb",
   "provenance": []
  },
  "kernelspec": {
   "display_name": "Python 3 (ipykernel)",
   "language": "python",
   "name": "python3"
  },
  "language_info": {
   "codemirror_mode": {
    "name": "ipython",
    "version": 3
   },
   "file_extension": ".py",
   "mimetype": "text/x-python",
   "name": "python",
   "nbconvert_exporter": "python",
   "pygments_lexer": "ipython3",
   "version": "3.9.13"
  }
 },
 "nbformat": 4,
 "nbformat_minor": 1
}
