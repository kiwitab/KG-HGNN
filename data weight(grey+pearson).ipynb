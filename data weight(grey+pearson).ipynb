{
 "cells": [
  {
   "cell_type": "markdown",
   "id": "aa381a3a",
   "metadata": {},
   "source": [
    "# Load data"
   ]
  },
  {
   "cell_type": "code",
   "execution_count": null,
   "id": "b04eab19",
   "metadata": {},
   "outputs": [],
   "source": [
    "import pandas as pd\n",
    "from sklearn import preprocessing\n",
    "from sklearn.preprocessing import MinMaxScaler\n",
    "\n",
    "location_10 = pd.read_csv('data_multi_cleaned_10_final.csv',encoding='gb18030')\n",
    "feature = location_10.values\n",
    "# feature = feature.T\n",
    "scaler = MinMaxScaler(feature_range=(0, 1))\n",
    "feature = scaler.fit_transform(feature)\n",
    "# feature = preprocessing.scale(feature)\n",
    "\n",
    "print(feature.shape)"
   ]
  },
  {
   "cell_type": "code",
   "execution_count": null,
   "id": "ac200801",
   "metadata": {},
   "outputs": [],
   "source": [
    "locations = list(location_10.columns)\n",
    "print(locations)"
   ]
  },
  {
   "cell_type": "code",
   "execution_count": null,
   "id": "671e544b",
   "metadata": {},
   "outputs": [],
   "source": [
    "print(len(feature[0,:]))"
   ]
  },
  {
   "cell_type": "markdown",
   "id": "6895a60b",
   "metadata": {},
   "source": [
    "# Weighted grey correlation coefficient"
   ]
  },
  {
   "cell_type": "code",
   "execution_count": null,
   "id": "8aa3c960",
   "metadata": {},
   "outputs": [],
   "source": [
    "import numpy as np\n",
    "\n",
    "def GRA(data,m=0):\n",
    "\n",
    "    data = preprocessing.scale(data)\n",
    "\n",
    "    target = data[0,:]\n",
    "\n",
    "    data0 = data.copy()\n",
    "    \n",
    "    n = data0.shape[0]\n",
    "    m = data0.shape[1]\n",
    "    \n",
    "    grc = np.zeros([n,m])\n",
    "    for i in range(m):\n",
    "        grc[i] = abs(data0[i]-target)\n",
    "    \n",
    "    print(grc)\n",
    "    mmax = grc.max()\n",
    "    mmin = grc.min()\n",
    "    ρ = 1 \n",
    "    \n",
    "    print(mmax,mmin)\n",
    "    f = lambda x:(mmin+ρ*mmax)/(x+ρ*mmax)\n",
    "    grc = f(grc)\n",
    "\n",
    "    RT = grc.mean(axis=0)\n",
    "    return RT\n",
    "\n",
    "data_gra = GRA(feature)"
   ]
  },
  {
   "cell_type": "code",
   "execution_count": null,
   "id": "b7a0df1b",
   "metadata": {},
   "outputs": [],
   "source": [
    "import numpy as np\n",
    "\n",
    "feature = np.array(feature)\n",
    "def grey_relation_coefficient(b, b0, rho):\n",
    "    n,m = b.shape\n",
    "    min1 = np.min(np.abs(b0 - b))\n",
    "    max1 = np.max(np.abs(b0 - b))\n",
    "    print(min1,max1)\n",
    "    G = np.zeros((n, m))\n",
    "    for s in range(n):\n",
    "        for k in range(m):\n",
    "            d = np.abs(b0[s,k] - b[s, k])\n",
    "            G[s, k] = (min1 + rho * max1) / (d + rho * max1)\n",
    "    return G\n",
    "\n",
    "rho = 0.5\n",
    "target = feature[:,0]\n",
    "print(feature)\n",
    "target = target.reshape(target.shape[0],1)\n",
    "target = target.repeat([76],axis=1)\n",
    "feature0 = feature[:,1:]\n",
    "G = grey_relation_coefficient(feature0, target, rho)\n",
    "G = G.T\n",
    "draw = G[0:4,0:8]\n",
    "print(G.shape)\n",
    "\n",
    "def grey_relation_degree(G, w=None):\n",
    "    m, n = G.shape\n",
    "    print(n)\n",
    "    if w is None:\n",
    "        w = np.ones(n) / n\n",
    "    r = np.dot(G, w)\n",
    "    return r\n",
    "\n",
    "x = np.arange(1,3251)\n",
    "y = x*np.log(x)\n",
    "weight = y/sum(y)\n",
    "\n",
    "r_weighted = grey_relation_degree(G, w=weight)\n",
    "print(r_weighted)\n",
    "r = grey_relation_degree(G, w=None)\n",
    "print(r)"
   ]
  },
  {
   "cell_type": "code",
   "execution_count": null,
   "id": "d9092f55",
   "metadata": {},
   "outputs": [],
   "source": [
    "import matplotlib.pyplot as plt\n",
    "\n",
    "x = np.arange(1,9)\n",
    "plt.plot(x, draw[0])\n",
    "plt.plot(x, draw[1])\n",
    "plt.plot(x, draw[2])\n",
    "plt.plot(x, draw[3])\n",
    "plt.scatter(x, draw[0],marker='*')\n",
    "plt.scatter(x, draw[1],marker='*')\n",
    "plt.scatter(x, draw[2],marker='*')\n",
    "plt.scatter(x, draw[3],marker='*')\n",
    "# plt.title('$\\mathrm{GRA coefficient}$')\n",
    "plt.title('GRA coefficient')\n",
    "plt.xticks([])\n",
    "plt.savefig('scatter.png',dpi=600)\n",
    "plt.show()"
   ]
  },
  {
   "cell_type": "markdown",
   "id": "a1811937",
   "metadata": {},
   "source": [
    "# Pearson"
   ]
  },
  {
   "cell_type": "code",
   "execution_count": null,
   "id": "db2b95c3",
   "metadata": {},
   "outputs": [],
   "source": [
    "from scipy import spatial\n",
    "data_weight = []\n",
    "for i in range(1,77):\n",
    "    pccs = np.corrcoef(feature[0], feature[i])\n",
    "    data_weight.append(pccs[0][1])\n",
    "print(data_weight)"
   ]
  }
 ],
 "metadata": {
  "kernelspec": {
   "display_name": "Python 3 (ipykernel)",
   "language": "python",
   "name": "python3"
  },
  "language_info": {
   "codemirror_mode": {
    "name": "ipython",
    "version": 3
   },
   "file_extension": ".py",
   "mimetype": "text/x-python",
   "name": "python",
   "nbconvert_exporter": "python",
   "pygments_lexer": "ipython3",
   "version": "3.9.13"
  }
 },
 "nbformat": 4,
 "nbformat_minor": 5
}
